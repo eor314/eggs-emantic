{
 "cells": [
  {
   "cell_type": "markdown",
   "metadata": {},
   "source": [
    "# Segmentation trained just on eggs\n",
    "## 05/03/21\n",
    "\n",
    "Train a Unet just on samples with eggs"
   ]
  },
  {
   "cell_type": "code",
   "execution_count": 1,
   "metadata": {},
   "outputs": [],
   "source": [
    "%matplotlib inline\n",
    "\n",
    "import os\n",
    "import glob\n",
    "import numpy as np\n",
    "import torch\n",
    "import matplotlib.pyplot as plt\n",
    "from torch.utils.data import DataLoader\n",
    "import cv2\n",
    "import segmentation_models_pytorch as smp\n",
    "from utils.datatools import PlanktonDataset\n",
    "from utils.transform_helpers import *\n",
    "from utils.visualizers import visualize"
   ]
  },
  {
   "cell_type": "markdown",
   "metadata": {},
   "source": [
    "### Preliminaries\n",
    "Point to the dataset split by profile for the ResNet training a few weeks ago, desired network, encoder depth, etc."
   ]
  },
  {
   "cell_type": "code",
   "execution_count": 2,
   "metadata": {},
   "outputs": [],
   "source": [
    "# file paths\n",
    "vocpath = '/home/eorenstein/VOCCopepodEgg'\n",
    "imgset = 'SplitByProfile-230221'\n",
    "\n",
    "# Unet settings\n",
    "ENCODER = 'resnet18'\n",
    "WEIGHTS = 'imagenet'\n",
    "DEPTH = 5  # desired depth of encoder. default is 5 for resnet-18\n",
    "DECODE_CHAN = (256, 128, 64, 32, 16)  # must set corresponding filter sizes of decoder. length must match depth\n",
    "CHANNELS = 3  # set as 1 for gray, 3 for color\n",
    "ACTIVE = 'softmax2d'\n",
    "CLASSES = ['copepod', 'eggs']\n",
    "n_classes = 1 if len(CLASSES) == 1 else ((len(CLASSES) + 1))"
   ]
  },
  {
   "cell_type": "markdown",
   "metadata": {},
   "source": [
    "### Instatiate model"
   ]
  },
  {
   "cell_type": "code",
   "execution_count": 3,
   "metadata": {},
   "outputs": [],
   "source": [
    "if DEPTH == 5:\n",
    "    model = smp.Unet(\n",
    "        encoder_name=ENCODER,\n",
    "        encoder_weights=WEIGHTS,\n",
    "        in_channels=CHANNELS,  \n",
    "        classes=n_classes,\n",
    "        activation=ACTIVE\n",
    "    )\n",
    "else:\n",
    "    model = smp.Unet(\n",
    "        encoder_name=ENCODER,\n",
    "        encoder_weights=WEIGHTS,\n",
    "        encoder_depth=DEPTH,\n",
    "        decoder_channels=DECODE_CHAN,\n",
    "        in_channels=CHANNELS,  \n",
    "        classes=n_classes,\n",
    "        activation=ACTIVE\n",
    "    )\n",
    "\n",
    "# this is the preprocessing for imagenet if using 3 channel images\n",
    "if CHANNELS == 3:\n",
    "    preprocess = smp.encoders.get_preprocessing_fn(ENCODER, WEIGHTS)\n",
    "    dmy_clf = True\n",
    "else:\n",
    "    preprocess = None\n",
    "    dmy_clf = False"
   ]
  },
  {
   "cell_type": "markdown",
   "metadata": {},
   "source": [
    "### Get datasets and loaders\n",
    "\n",
    "Since only interested in egg data point to that train and val set. "
   ]
  },
  {
   "cell_type": "code",
   "execution_count": 4,
   "metadata": {},
   "outputs": [
    {
     "name": "stdout",
     "output_type": "stream",
     "text": [
      "train set: 1330 images\n",
      "val set: 313 images\n"
     ]
    }
   ],
   "source": [
    "training_dataset = PlanktonDataset(root=vocpath,\n",
    "                                   img_set=f'{imgset}/egg_train.txt',\n",
    "                                   augs=training_transform(),\n",
    "                                   preproc=get_preprocessing(preprocess),\n",
    "                                   classes=CLASSES,\n",
    "                                   dummy_clf=dmy_clf\n",
    "                                  )\n",
    "\n",
    "val_dataset = PlanktonDataset(root=vocpath,\n",
    "                              img_set=f'{imgset}/egg_val.txt',\n",
    "                              augs=validation_transform(),\n",
    "                              preproc=get_preprocessing(preprocess),\n",
    "                              classes=CLASSES,\n",
    "                              dummy_clf=dmy_clf\n",
    "                             )\n",
    "\n",
    "# check that the lengths are consistent\n",
    "print('train set:', len(training_dataset), 'images')\n",
    "print('val set:', len(val_dataset), 'images')\n",
    "\n",
    "train_loader = DataLoader(training_dataset, batch_size=8, shuffle=True, num_workers=4)\n",
    "val_loader = DataLoader(val_dataset, batch_size=1, shuffle=False, num_workers=1)"
   ]
  },
  {
   "cell_type": "markdown",
   "metadata": {},
   "source": [
    "### Define loss function.\n",
    "\n",
    "Dice loss is related to F1 score. IoU is intersection over union"
   ]
  },
  {
   "cell_type": "code",
   "execution_count": 5,
   "metadata": {},
   "outputs": [],
   "source": [
    "loss = smp.utils.losses.DiceLoss()\n",
    "metrics = [\n",
    "    smp.utils.metrics.IoU(threshold=0.5),\n",
    "]\n",
    "\n",
    "# standard atom optimizer from PyTorch (might want to consider reducing the learning rate)\n",
    "optimizer = torch.optim.Adam([ \n",
    "    dict(params=model.parameters(), lr=0.0001),\n",
    "])"
   ]
  },
  {
   "cell_type": "markdown",
   "metadata": {},
   "source": [
    "### Define the epoch runners"
   ]
  },
  {
   "cell_type": "code",
   "execution_count": 6,
   "metadata": {},
   "outputs": [],
   "source": [
    "train_epoch = smp.utils.train.TrainEpoch(\n",
    "    model, \n",
    "    loss=loss, \n",
    "    metrics=metrics, \n",
    "    optimizer=optimizer,\n",
    "    device='cuda',\n",
    "    verbose=True,\n",
    ")\n",
    "\n",
    "valid_epoch = smp.utils.train.ValidEpoch(\n",
    "    model, \n",
    "    loss=loss, \n",
    "    metrics=metrics, \n",
    "    device='cuda',\n",
    "    verbose=True,\n",
    ")"
   ]
  },
  {
   "cell_type": "markdown",
   "metadata": {},
   "source": [
    "### Training cycle"
   ]
  },
  {
   "cell_type": "code",
   "execution_count": 7,
   "metadata": {},
   "outputs": [
    {
     "name": "stdout",
     "output_type": "stream",
     "text": [
      "\n",
      "Epoch: 0\n",
      "train: 100%|██████████| 167/167 [00:06<00:00, 25.55it/s, dice_loss - 0.3559, iou_score - 0.7191]\n",
      "valid: 100%|██████████| 313/313 [00:02<00:00, 124.74it/s, dice_loss - 0.1719, iou_score - 0.9159]\n",
      "Model saved!\n",
      "\n",
      "Epoch: 1\n",
      "train: 100%|██████████| 167/167 [00:06<00:00, 25.81it/s, dice_loss - 0.1181, iou_score - 0.9214]\n",
      "valid: 100%|██████████| 313/313 [00:02<00:00, 126.19it/s, dice_loss - 0.08353, iou_score - 0.929] \n",
      "Model saved!\n",
      "\n",
      "Epoch: 2\n",
      "train: 100%|██████████| 167/167 [00:06<00:00, 27.68it/s, dice_loss - 0.07136, iou_score - 0.9269]\n",
      "valid: 100%|██████████| 313/313 [00:02<00:00, 127.53it/s, dice_loss - 0.05844, iou_score - 0.9372]\n",
      "Model saved!\n",
      "\n",
      "Epoch: 3\n",
      "train: 100%|██████████| 167/167 [00:06<00:00, 27.67it/s, dice_loss - 0.04634, iou_score - 0.9502]\n",
      "valid: 100%|██████████| 313/313 [00:02<00:00, 128.16it/s, dice_loss - 0.03523, iou_score - 0.9612]\n",
      "Model saved!\n",
      "Decrease decoder learning rate to 1e-5!\n",
      "\n",
      "Epoch: 4\n",
      "train: 100%|██████████| 167/167 [00:06<00:00, 27.03it/s, dice_loss - 0.03482, iou_score - 0.9612]\n",
      "valid: 100%|██████████| 313/313 [00:02<00:00, 125.95it/s, dice_loss - 0.0324, iou_score - 0.9655] \n",
      "Model saved!\n",
      "Decrease decoder learning rate to 1e-5!\n",
      "\n",
      "Epoch: 5\n",
      "train: 100%|██████████| 167/167 [00:06<00:00, 27.03it/s, dice_loss - 0.03303, iou_score - 0.9631]\n",
      "valid: 100%|██████████| 313/313 [00:02<00:00, 127.47it/s, dice_loss - 0.03151, iou_score - 0.9654]\n",
      "Decrease decoder learning rate to 1e-5!\n",
      "\n",
      "Epoch: 6\n",
      "train: 100%|██████████| 167/167 [00:05<00:00, 27.88it/s, dice_loss - 0.03185, iou_score - 0.9638]\n",
      "valid: 100%|██████████| 313/313 [00:02<00:00, 126.67it/s, dice_loss - 0.03008, iou_score - 0.9668]\n",
      "Model saved!\n",
      "Decrease decoder learning rate to 1e-5!\n",
      "\n",
      "Epoch: 7\n",
      "train: 100%|██████████| 167/167 [00:06<00:00, 27.47it/s, dice_loss - 0.03046, iou_score - 0.9651]\n",
      "valid: 100%|██████████| 313/313 [00:02<00:00, 124.14it/s, dice_loss - 0.02889, iou_score - 0.9676]\n",
      "Model saved!\n",
      "Decrease decoder learning rate to 1e-5!\n",
      "\n",
      "Epoch: 8\n",
      "train: 100%|██████████| 167/167 [00:05<00:00, 27.89it/s, dice_loss - 0.02958, iou_score - 0.9653]\n",
      "valid: 100%|██████████| 313/313 [00:02<00:00, 124.38it/s, dice_loss - 0.02803, iou_score - 0.9682]\n",
      "Model saved!\n",
      "Decrease decoder learning rate to 1e-5!\n",
      "\n",
      "Epoch: 9\n",
      "train: 100%|██████████| 167/167 [00:06<00:00, 27.02it/s, dice_loss - 0.0284, iou_score - 0.9662] \n",
      "valid: 100%|██████████| 313/313 [00:02<00:00, 129.39it/s, dice_loss - 0.02701, iou_score - 0.9686]\n",
      "Model saved!\n",
      "Decrease decoder learning rate to 1e-5!\n",
      "\n",
      "Epoch: 10\n",
      "train: 100%|██████████| 167/167 [00:06<00:00, 27.79it/s, dice_loss - 0.02734, iou_score - 0.9668]\n",
      "valid: 100%|██████████| 313/313 [00:02<00:00, 125.99it/s, dice_loss - 0.02649, iou_score - 0.9683]\n",
      "Decrease decoder learning rate to 1e-5!\n",
      "\n",
      "Epoch: 11\n",
      "train: 100%|██████████| 167/167 [00:06<00:00, 26.69it/s, dice_loss - 0.02655, iou_score - 0.967] \n",
      "valid: 100%|██████████| 313/313 [00:02<00:00, 126.61it/s, dice_loss - 0.02576, iou_score - 0.9683]\n",
      "Decrease decoder learning rate to 1e-5!\n",
      "\n",
      "Epoch: 12\n",
      "train: 100%|██████████| 167/167 [00:06<00:00, 26.91it/s, dice_loss - 0.02592, iou_score - 0.967] \n",
      "valid: 100%|██████████| 313/313 [00:02<00:00, 126.41it/s, dice_loss - 0.02458, iou_score - 0.9694]\n",
      "Model saved!\n",
      "Decrease decoder learning rate to 1e-5!\n",
      "\n",
      "Epoch: 13\n",
      "train: 100%|██████████| 167/167 [00:06<00:00, 26.74it/s, dice_loss - 0.02504, iou_score - 0.9676]\n",
      "valid: 100%|██████████| 313/313 [00:02<00:00, 124.97it/s, dice_loss - 0.02399, iou_score - 0.9692]\n",
      "Decrease decoder learning rate to 1e-5!\n",
      "\n",
      "Epoch: 14\n",
      "train: 100%|██████████| 167/167 [00:06<00:00, 27.07it/s, dice_loss - 0.02441, iou_score - 0.9677]\n",
      "valid: 100%|██████████| 313/313 [00:02<00:00, 123.65it/s, dice_loss - 0.02332, iou_score - 0.9695]\n",
      "Model saved!\n",
      "Decrease decoder learning rate to 1e-5!\n"
     ]
    }
   ],
   "source": [
    "max_score = 0\n",
    "\n",
    "# where to save\n",
    "outpath = '/home/eorenstein/python_code/eggs-emantic/clf-outputs'\n",
    "descript = 'eggs_only'  # info about model\n",
    "\n",
    "for i in range(0, 15):\n",
    "    \n",
    "    print('\\nEpoch: {}'.format(i))\n",
    "    train_logs = train_epoch.run(train_loader)\n",
    "    valid_logs = valid_epoch.run(val_loader)\n",
    "    \n",
    "    # do something (save model, change lr, etc.)\n",
    "    if max_score < valid_logs['iou_score']:\n",
    "        max_score = valid_logs['iou_score']\n",
    "        torch.save(model, os.path.join(outpath,f'{descript}_best_model.pth'))\n",
    "        print('Model saved!')\n",
    "        \n",
    "    if max_score > 0.94:\n",
    "        optimizer.param_groups[0]['lr'] = 1e-5\n",
    "        print('Decrease decoder learning rate to 1e-5!')"
   ]
  },
  {
   "cell_type": "markdown",
   "metadata": {},
   "source": [
    "### Check the output on the just the eggs in the test set\n",
    "\n",
    "Prelimiaries in case not running directly after training (all this is cut and pasted from above. redundant if running the whole notebook at once)."
   ]
  },
  {
   "cell_type": "code",
   "execution_count": 3,
   "metadata": {},
   "outputs": [],
   "source": [
    "descript = 'eggs_only'\n",
    "\n",
    "# this is the preprocessing for imagenet if using 3 channel images\n",
    "if CHANNELS == 3:\n",
    "    preprocess = smp.encoders.get_preprocessing_fn(ENCODER, WEIGHTS)\n",
    "    dmy_clf = True\n",
    "else:\n",
    "    preprocess = None\n",
    "    dmy_clf = False"
   ]
  },
  {
   "cell_type": "markdown",
   "metadata": {},
   "source": [
    "Load the best model as measured by validation IoU"
   ]
  },
  {
   "cell_type": "code",
   "execution_count": 4,
   "metadata": {},
   "outputs": [],
   "source": [
    "best_model = torch.load(f'./clf-outputs/{descript}_best_model.pth')\n",
    "\n",
    "# loss and optimizer, cut and pasted from above\n",
    "loss = smp.utils.losses.DiceLoss()\n",
    "metrics = [\n",
    "    smp.utils.metrics.IoU(threshold=0.5),\n",
    "]\n",
    "\n",
    "# standard atom optimizer from PyTorch (might want to consider reducing the learning rate)\n",
    "optimizer = torch.optim.Adam([ \n",
    "    dict(params=best_model.parameters(), lr=0.0001),\n",
    "])"
   ]
  },
  {
   "cell_type": "markdown",
   "metadata": {},
   "source": [
    "Load the test dataset"
   ]
  },
  {
   "cell_type": "code",
   "execution_count": 5,
   "metadata": {},
   "outputs": [],
   "source": [
    "# this is for running images through the classifier\n",
    "test_dataset = PlanktonDataset(root=vocpath, \n",
    "                               img_set=f'{imgset}/egg_test.txt',\n",
    "                               augs=validation_transform(),\n",
    "                               preproc=get_preprocessing(preprocess),\n",
    "                               classes=CLASSES,\n",
    "                               dummy_clf=dmy_clf)\n",
    "\n",
    "# this does not do any preprocessing for plotting\n",
    "test_viz = PlanktonDataset(root=vocpath, \n",
    "                           img_set=f'{imgset}/egg_test.txt',\n",
    "                           classes=CLASSES,\n",
    "                           )"
   ]
  },
  {
   "cell_type": "markdown",
   "metadata": {},
   "source": [
    "Evaluate the model on all the images of the test set."
   ]
  },
  {
   "cell_type": "code",
   "execution_count": 6,
   "metadata": {},
   "outputs": [
    {
     "name": "stdout",
     "output_type": "stream",
     "text": [
      "valid: 100%|██████████| 266/266 [00:02<00:00, 108.89it/s, dice_loss - 0.02358, iou_score - 0.9689]\n"
     ]
    }
   ],
   "source": [
    "test_dataloader = DataLoader(test_dataset)\n",
    "\n",
    "test_epoch = smp.utils.train.ValidEpoch(\n",
    "    best_model, \n",
    "    loss=loss, \n",
    "    metrics=metrics, \n",
    "    device='cuda',\n",
    "    verbose=True,\n",
    ")\n",
    "\n",
    "logs = test_epoch.run(test_dataloader)"
   ]
  },
  {
   "cell_type": "markdown",
   "metadata": {},
   "source": [
    "Randomly select from the test data and visualize"
   ]
  },
  {
   "cell_type": "code",
   "execution_count": 7,
   "metadata": {},
   "outputs": [
    {
     "name": "stdout",
     "output_type": "stream",
     "text": [
      "index: 133 img-id: 6681834\n"
     ]
    },
    {
     "data": {
      "image/png": "[encoded data removed]",
      "text/plain": [
       "<Figure size 1152x360 with 4 Axes>"
      ]
     },
     "metadata": {},
     "output_type": "display_data"
    },
    {
     "data": {
      "image/png": "[encoded data removed]",
      "text/plain": [
       "<Figure size 1152x360 with 4 Axes>"
      ]
     },
     "metadata": {},
     "output_type": "display_data"
    }
   ],
   "source": [
    "# select a random image from the validation set\n",
    "ii = np.random.choice(len(test_dataset))\n",
    "#ii=10\n",
    "print('index:', ii, 'img-id:', test_viz.ids[ii])\n",
    "img_orig, gt_mask = test_viz[ii]\n",
    "img, mask = test_dataset[ii]\n",
    "\n",
    "mask = mask.squeeze()\n",
    "\n",
    "# put it on the GPU\n",
    "imgtens = torch.from_numpy(img).to('cuda').unsqueeze(0)\n",
    "pred = best_model.predict(imgtens)\n",
    "pred = (pred.squeeze().cpu().numpy().round())\n",
    "\n",
    "# rearrange channels for visualization\n",
    "pred_out = pred.transpose(1,2,0)\n",
    "pred_out = cv2.resize(pred_out, dsize=(img_orig.shape[1],img_orig.shape[0]))\n",
    "\n",
    "visualize(ROI=img_orig, mask=gt_mask)\n",
    "visualize(ROI=img_orig, mask=pred_out)"
   ]
  },
  {
   "cell_type": "markdown",
   "metadata": {},
   "source": [
    "### Now evaluate on images without eggs\n",
    "\n",
    "Load in images without eggs to see what it does. First grab a list of image-ids of just copepods."
   ]
  },
  {
   "cell_type": "code",
   "execution_count": 11,
   "metadata": {},
   "outputs": [
    {
     "name": "stdout",
     "output_type": "stream",
     "text": [
      "13458\n"
     ]
    }
   ],
   "source": [
    "with open('/home/eorenstein/VOCCopepodEgg/ImageSets/Main/SplitByProfile-230221/cope_test.txt', 'r') as ff:\n",
    "    copes = list(ff)\n",
    "    ff.close()\n",
    "    \n",
    "copes = [line.strip() for line in copes]\n",
    "print(len(copes))"
   ]
  },
  {
   "cell_type": "markdown",
   "metadata": {},
   "source": [
    "There are more in there than we care to process. Select a random 1000."
   ]
  },
  {
   "cell_type": "code",
   "execution_count": 12,
   "metadata": {},
   "outputs": [],
   "source": [
    "np.random.shuffle(copes)\n",
    "copes = copes[0:1000]"
   ]
  },
  {
   "cell_type": "markdown",
   "metadata": {},
   "source": [
    "Load them as a dataset and procede as above"
   ]
  },
  {
   "cell_type": "code",
   "execution_count": 13,
   "metadata": {},
   "outputs": [],
   "source": [
    "# this is for running images through the classifier\n",
    "cope_dataset = PlanktonDataset(root=vocpath, \n",
    "                               img_set=copes,\n",
    "                               augs=validation_transform(),\n",
    "                               preproc=get_preprocessing(preprocess),\n",
    "                               classes=CLASSES,\n",
    "                               dummy_clf=dmy_clf)\n",
    "\n",
    "# this does not do any preprocessing for plotting\n",
    "cope_viz = PlanktonDataset(root=vocpath, \n",
    "                           img_set=copes,\n",
    "                           classes=CLASSES,\n",
    "                           )"
   ]
  },
  {
   "cell_type": "markdown",
   "metadata": {},
   "source": [
    "Re-instantiate in case not loaded and evaluate the model on all the images of the test set."
   ]
  },
  {
   "cell_type": "code",
   "execution_count": 14,
   "metadata": {},
   "outputs": [
    {
     "name": "stdout",
     "output_type": "stream",
     "text": [
      "valid: 100%|██████████| 1000/1000 [00:08<00:00, 114.07it/s, dice_loss - 0.02253, iou_score - 0.9713]\n"
     ]
    }
   ],
   "source": [
    "cope_dataloader = DataLoader(cope_dataset)\n",
    "\n",
    "cope_epoch = smp.utils.train.ValidEpoch(\n",
    "    best_model, \n",
    "    loss=loss, \n",
    "    metrics=metrics, \n",
    "    device='cuda',\n",
    "    verbose=True,\n",
    ")\n",
    "\n",
    "logs = cope_epoch.run(cope_dataloader)"
   ]
  },
  {
   "cell_type": "markdown",
   "metadata": {},
   "source": [
    "Randomly select from copepod ROIs data and visualize"
   ]
  },
  {
   "cell_type": "code",
   "execution_count": 31,
   "metadata": {},
   "outputs": [
    {
     "name": "stdout",
     "output_type": "stream",
     "text": [
      "index: 849 img-id: 64100985\n"
     ]
    },
    {
     "data": {
      "image/png": "[encoded data removed]",
      "text/plain": [
       "<Figure size 1152x360 with 4 Axes>"
      ]
     },
     "metadata": {},
     "output_type": "display_data"
    },
    {
     "data": {
      "image/png": "[encoded data removed]",
      "text/plain": [
       "<Figure size 1152x360 with 4 Axes>"
      ]
     },
     "metadata": {},
     "output_type": "display_data"
    }
   ],
   "source": [
    "# select a random image from the validation set\n",
    "ii = np.random.choice(len(cope_dataset))\n",
    "#ii=10\n",
    "print('index:', ii, 'img-id:', cope_viz.ids[ii])\n",
    "img_orig, gt_mask = cope_viz[ii]\n",
    "img, mask = cope_dataset[ii]\n",
    "\n",
    "mask = mask.squeeze()\n",
    "\n",
    "# put it on the GPU\n",
    "imgtens = torch.from_numpy(img).to('cuda').unsqueeze(0)\n",
    "pred = best_model.predict(imgtens)\n",
    "pred = (pred.squeeze().cpu().numpy().round())\n",
    "\n",
    "# rearrange channels for visualization\n",
    "pred_out = pred.transpose(1,2,0)\n",
    "pred_out = cv2.resize(pred_out, dsize=(img_orig.shape[1],img_orig.shape[0]))\n",
    "\n",
    "visualize(ROI=img_orig, mask=gt_mask)\n",
    "visualize(ROI=img_orig, mask=pred_out)"
   ]
  },
  {
   "cell_type": "code",
   "execution_count": 43,
   "metadata": {},
   "outputs": [
    {
     "name": "stdout",
     "output_type": "stream",
     "text": [
      "5\n",
      "9\n",
      "17\n",
      "26\n",
      "37\n",
      "49\n",
      "51\n",
      "52\n",
      "57\n",
      "65\n",
      "66\n",
      "71\n",
      "73\n",
      "80\n",
      "82\n",
      "98\n",
      "100\n",
      "103\n",
      "116\n",
      "130\n",
      "132\n",
      "147\n",
      "152\n",
      "154\n",
      "162\n",
      "166\n",
      "173\n",
      "174\n",
      "175\n",
      "181\n",
      "186\n",
      "187\n",
      "189\n",
      "198\n",
      "213\n",
      "220\n",
      "225\n",
      "230\n",
      "231\n",
      "247\n",
      "265\n",
      "270\n",
      "271\n",
      "275\n",
      "277\n",
      "280\n",
      "301\n",
      "304\n",
      "317\n",
      "318\n",
      "321\n",
      "322\n",
      "324\n",
      "335\n",
      "338\n",
      "340\n",
      "354\n",
      "364\n",
      "365\n",
      "367\n",
      "371\n",
      "382\n",
      "385\n",
      "392\n",
      "404\n",
      "420\n",
      "423\n",
      "441\n",
      "450\n",
      "456\n",
      "462\n",
      "473\n",
      "477\n",
      "484\n",
      "493\n",
      "508\n",
      "516\n",
      "522\n",
      "526\n",
      "537\n",
      "540\n",
      "543\n",
      "558\n",
      "567\n",
      "570\n",
      "576\n",
      "579\n",
      "585\n",
      "602\n",
      "605\n",
      "618\n",
      "619\n",
      "627\n",
      "630\n",
      "639\n",
      "643\n",
      "663\n",
      "667\n",
      "670\n",
      "671\n",
      "673\n",
      "698\n",
      "699\n",
      "702\n",
      "720\n",
      "731\n",
      "734\n",
      "737\n",
      "738\n",
      "742\n",
      "747\n",
      "753\n",
      "757\n",
      "768\n",
      "773\n",
      "776\n",
      "795\n",
      "796\n",
      "797\n",
      "799\n",
      "805\n",
      "819\n",
      "822\n",
      "843\n",
      "845\n",
      "849\n",
      "853\n",
      "860\n",
      "874\n",
      "888\n",
      "900\n",
      "901\n",
      "908\n",
      "911\n",
      "912\n",
      "914\n",
      "916\n",
      "919\n",
      "928\n",
      "933\n",
      "937\n",
      "938\n",
      "958\n",
      "968\n",
      "970\n",
      "973\n",
      "979\n",
      "996\n",
      "total with no egg pixels: 148\n"
     ]
    }
   ],
   "source": [
    "num = 0\n",
    "for jj in range(len(cope_dataset)):\n",
    "    img, mask = cope_dataset[jj]\n",
    "\n",
    "    mask = mask.squeeze()\n",
    "\n",
    "    # put it on the GPU\n",
    "    imgtens = torch.from_numpy(img).to('cuda').unsqueeze(0)\n",
    "    pred = best_model.predict(imgtens)\n",
    "    pred = (pred.squeeze().cpu().numpy().round())\n",
    "    \n",
    "    if np.sum(pred[1, :, :]) == 0:\n",
    "        print(jj)\n",
    "        num+=1\n",
    "        \n",
    "print('total with no egg pixels:', num)"
   ]
  },
  {
   "cell_type": "code",
   "execution_count": null,
   "metadata": {},
   "outputs": [],
   "source": []
  }
 ],
 "metadata": {
  "kernelspec": {
   "display_name": "eggs-emantic",
   "language": "python",
   "name": "eggs-emantic"
  },
  "language_info": {
   "codemirror_mode": {
    "name": "ipython",
    "version": 3
   },
   "file_extension": ".py",
   "mimetype": "text/x-python",
   "name": "python",
   "nbconvert_exporter": "python",
   "pygments_lexer": "ipython3",
   "version": "3.7.10"
  }
 },
 "nbformat": 4,
 "nbformat_minor": 4
}
